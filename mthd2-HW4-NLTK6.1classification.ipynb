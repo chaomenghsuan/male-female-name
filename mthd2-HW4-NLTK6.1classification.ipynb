{
 "cells": [
  {
   "cell_type": "markdown",
   "metadata": {},
   "source": [
    "# I. Male name? Female name?"
   ]
  },
  {
   "cell_type": "code",
   "execution_count": 1,
   "metadata": {
    "collapsed": true
   },
   "outputs": [],
   "source": [
    "# Consider the document classification task discussed in Chapter 6 of NLTK (Section 1.3).\n",
    "# Using the same training and test data, and the same feature extractor,\n",
    "# build three classifiers for the task: a decision tree, a naive Bayes classifier, and a Maxi- mum Entropy classifier.\n",
    "# Compare the performance of the three classifiers on your se- lected task.\n",
    "# How do you think that your results might be different if you used a different feature extractor?"
   ]
  },
  {
   "cell_type": "code",
   "execution_count": 2,
   "metadata": {
    "collapsed": true
   },
   "outputs": [],
   "source": [
    "from nltk.corpus import names\n",
    "from random import shuffle\n",
    "from sklearn import svm\n",
    "import pandas as pd\n",
    "import nltk\n",
    "from sklearn.naive_bayes import MultinomialNB\n",
    "from sklearn import preprocessing\n",
    "from sklearn.feature_extraction.text import CountVectorizer\n",
    "from scipy.sparse import csr_matrix\n",
    "from sklearn import tree\n",
    "from nltk.classify import MaxentClassifier\n",
    "from sklearn.metrics import precision_score, recall_score, f1_score, accuracy_score, confusion_matrix\n",
    "from nltk.metrics import ConfusionMatrix"
   ]
  },
  {
   "cell_type": "code",
   "execution_count": 3,
   "metadata": {},
   "outputs": [
    {
     "name": "stdout",
     "output_type": "stream",
     "text": [
      "number of male name: 2943\n",
      "number of female name: 4636\n"
     ]
    }
   ],
   "source": [
    "# raw data: male names and female names\n",
    "male = [(name, 'male') for name in names.words('male.txt')]\n",
    "female = [(name, 'female') for name in names.words('female.txt') if name not in names.words('male.txt')]\n",
    "print('number of male name:', len(male))\n",
    "print('number of female name:', len(female))\n",
    "\n",
    "all_name = male + female\n",
    "shuffle(all_name)"
   ]
  },
  {
   "cell_type": "code",
   "execution_count": 5,
   "metadata": {
    "collapsed": true
   },
   "outputs": [],
   "source": [
    "# labels: male & female\n",
    "labels = [t[1] for t in all_name]"
   ]
  },
  {
   "cell_type": "code",
   "execution_count": 6,
   "metadata": {},
   "outputs": [
    {
     "data": {
      "text/plain": [
       "LabelBinarizer(neg_label=0, pos_label=1, sparse_output=False)"
      ]
     },
     "execution_count": 6,
     "metadata": {},
     "output_type": "execute_result"
    }
   ],
   "source": [
    "# label vectorization\n",
    "lb = preprocessing.LabelBinarizer()\n",
    "lb.fit(['male', 'female'])"
   ]
  },
  {
   "cell_type": "code",
   "execution_count": 7,
   "metadata": {
    "collapsed": true
   },
   "outputs": [],
   "source": [
    "y = lb.transform(labels)"
   ]
  },
  {
   "cell_type": "code",
   "execution_count": 9,
   "metadata": {
    "collapsed": true
   },
   "outputs": [],
   "source": [
    "# feature: bag-of-characters\n",
    "text = [t[0].lower() for t in all_name]"
   ]
  },
  {
   "cell_type": "code",
   "execution_count": 10,
   "metadata": {
    "collapsed": true
   },
   "outputs": [],
   "source": [
    "# features vectorizaion\n",
    "cv = CountVectorizer(analyzer='char')\n",
    "X = csr_matrix(cv.fit_transform(text)).toarray()"
   ]
  },
  {
   "cell_type": "code",
   "execution_count": 11,
   "metadata": {
    "collapsed": true
   },
   "outputs": [],
   "source": [
    "# training-testing split\n",
    "split = int(0.7 * len(all_name))\n",
    "Xtrain, Xtest = X[:split], X[split:]\n",
    "ytrain, ytest = y[:split], y[split:]"
   ]
  },
  {
   "cell_type": "code",
   "execution_count": 12,
   "metadata": {
    "collapsed": true
   },
   "outputs": [],
   "source": [
    "# classifier: Decision Tree\n",
    "clf_tree = tree.DecisionTreeClassifier()\n",
    "clf_tree.fit(Xtrain, ytrain)\n",
    "pred_tree = clf_tree.predict(Xtest)"
   ]
  },
  {
   "cell_type": "code",
   "execution_count": 13,
   "metadata": {},
   "outputs": [
    {
     "name": "stdout",
     "output_type": "stream",
     "text": [
      "Decision Tree Result:\n",
      "Accuracy: 0.691\n"
     ]
    }
   ],
   "source": [
    "print('Decision Tree Result:')\n",
    "print('Accuracy:', round(accuracy_score(ytest, pred_tree), 3))"
   ]
  },
  {
   "cell_type": "code",
   "execution_count": 14,
   "metadata": {},
   "outputs": [
    {
     "name": "stdout",
     "output_type": "stream",
     "text": [
      "        predict female  predict male\n",
      "female            1044           321\n",
      "male               381           528\n",
      "====================\n"
     ]
    }
   ],
   "source": [
    "print(pd.DataFrame(confusion_matrix(ytest, pred_tree), index=['female', 'male'], \n",
    "             columns=['predict female','predict male']))\n",
    "print('='*20)"
   ]
  },
  {
   "cell_type": "code",
   "execution_count": 15,
   "metadata": {},
   "outputs": [
    {
     "name": "stderr",
     "output_type": "stream",
     "text": [
      "/anaconda/lib/python3.6/site-packages/sklearn/utils/validation.py:547: DataConversionWarning: A column-vector y was passed when a 1d array was expected. Please change the shape of y to (n_samples, ), for example using ravel().\n",
      "  y = column_or_1d(y, warn=True)\n"
     ]
    }
   ],
   "source": [
    "# classifier: Naive Bayes\n",
    "clf_nb = MultinomialNB()\n",
    "clf_nb.fit(Xtrain, ytrain)\n",
    "pred_nb = clf_nb.predict(Xtest)"
   ]
  },
  {
   "cell_type": "code",
   "execution_count": 16,
   "metadata": {},
   "outputs": [
    {
     "name": "stdout",
     "output_type": "stream",
     "text": [
      "Naive Bayes Result:\n",
      "Accuracy: 0.69\n"
     ]
    }
   ],
   "source": [
    "print('Naive Bayes Result:')\n",
    "print('Accuracy:', round(accuracy_score(ytest, pred_nb), 3))"
   ]
  },
  {
   "cell_type": "code",
   "execution_count": 17,
   "metadata": {},
   "outputs": [
    {
     "name": "stdout",
     "output_type": "stream",
     "text": [
      "        predict female  predict male\n",
      "female            1206           159\n",
      "male               546           363\n",
      "====================\n"
     ]
    }
   ],
   "source": [
    "print(pd.DataFrame(confusion_matrix(ytest, pred_nb), index=['female', 'male'], \n",
    "             columns=['predict female','predict male']))\n",
    "print('='*20)"
   ]
  },
  {
   "cell_type": "code",
   "execution_count": 18,
   "metadata": {
    "collapsed": true
   },
   "outputs": [],
   "source": [
    "# classifier: Maximum Entropy\n",
    "features = [nltk.FreqDist(t) for t in list(text)]\n",
    "sets = [(features[i], labels[i]) for i in range(len(features))]\n",
    "sets_train, sets_test = sets[:split], sets[split:]"
   ]
  },
  {
   "cell_type": "code",
   "execution_count": 19,
   "metadata": {},
   "outputs": [
    {
     "name": "stdout",
     "output_type": "stream",
     "text": [
      "  ==> Training (100 iterations)\n",
      "\n",
      "      Iteration    Log Likelihood    Accuracy\n",
      "      ---------------------------------------\n",
      "             1          -0.69315        0.383\n",
      "             2          -0.60943        0.623\n",
      "             3          -0.58417        0.654\n",
      "             4          -0.56480        0.676\n",
      "             5          -0.54968        0.686\n",
      "             6          -0.53765        0.694\n",
      "             7          -0.52791        0.700\n",
      "             8          -0.51988        0.702\n",
      "             9          -0.51315        0.704\n",
      "            10          -0.50744        0.708\n",
      "            11          -0.50253        0.709\n",
      "            12          -0.49827        0.710\n",
      "            13          -0.49453        0.713\n",
      "            14          -0.49122        0.714\n",
      "            15          -0.48828        0.714\n",
      "            16          -0.48563        0.714\n",
      "            17          -0.48325        0.716\n",
      "            18          -0.48108        0.717\n",
      "            19          -0.47911        0.720\n",
      "            20          -0.47729        0.720\n",
      "            21          -0.47563        0.720\n",
      "            22          -0.47408        0.720\n",
      "            23          -0.47265        0.720\n",
      "            24          -0.47132        0.722\n",
      "            25          -0.47008        0.722\n",
      "            26          -0.46892        0.722\n",
      "            27          -0.46783        0.721\n",
      "            28          -0.46680        0.721\n",
      "            29          -0.46583        0.721\n",
      "            30          -0.46491        0.722\n",
      "            31          -0.46405        0.722\n",
      "            32          -0.46323        0.722\n",
      "            33          -0.46245        0.723\n",
      "            34          -0.46170        0.723\n",
      "            35          -0.46100        0.723\n",
      "            36          -0.46032        0.723\n",
      "            37          -0.45968        0.723\n",
      "            38          -0.45906        0.723\n",
      "            39          -0.45847        0.724\n",
      "            40          -0.45790        0.724\n",
      "            41          -0.45736        0.724\n",
      "            42          -0.45683        0.725\n",
      "            43          -0.45633        0.724\n",
      "            44          -0.45585        0.724\n",
      "            45          -0.45538        0.725\n",
      "            46          -0.45493        0.724\n",
      "            47          -0.45450        0.725\n",
      "            48          -0.45408        0.725\n",
      "            49          -0.45368        0.726\n",
      "            50          -0.45329        0.726\n",
      "            51          -0.45291        0.726\n",
      "            52          -0.45255        0.726\n",
      "            53          -0.45219        0.726\n",
      "            54          -0.45185        0.726\n",
      "            55          -0.45152        0.727\n",
      "            56          -0.45120        0.727\n",
      "            57          -0.45089        0.728\n",
      "            58          -0.45058        0.727\n",
      "            59          -0.45029        0.728\n",
      "            60          -0.45001        0.728\n",
      "            61          -0.44973        0.728\n",
      "            62          -0.44946        0.728\n",
      "            63          -0.44920        0.729\n",
      "            64          -0.44895        0.729\n",
      "            65          -0.44870        0.730\n",
      "            66          -0.44846        0.730\n",
      "            67          -0.44823        0.730\n",
      "            68          -0.44800        0.730\n",
      "            69          -0.44778        0.730\n",
      "            70          -0.44756        0.730\n",
      "            71          -0.44735        0.730\n",
      "            72          -0.44715        0.730\n",
      "            73          -0.44695        0.730\n",
      "            74          -0.44675        0.730\n",
      "            75          -0.44657        0.730\n",
      "            76          -0.44638        0.730\n",
      "            77          -0.44620        0.730\n",
      "            78          -0.44603        0.730\n",
      "            79          -0.44586        0.730\n",
      "            80          -0.44569        0.730\n",
      "            81          -0.44553        0.731\n",
      "            82          -0.44537        0.731\n",
      "            83          -0.44521        0.731\n",
      "            84          -0.44506        0.732\n",
      "            85          -0.44491        0.731\n",
      "            86          -0.44477        0.731\n",
      "            87          -0.44463        0.731\n",
      "            88          -0.44449        0.731\n",
      "            89          -0.44436        0.731\n",
      "            90          -0.44423        0.731\n",
      "            91          -0.44410        0.731\n",
      "            92          -0.44397        0.731\n",
      "            93          -0.44385        0.731\n",
      "            94          -0.44373        0.731\n",
      "            95          -0.44362        0.731\n",
      "            96          -0.44350        0.731\n",
      "            97          -0.44339        0.731\n",
      "            98          -0.44328        0.731\n",
      "            99          -0.44318        0.731\n",
      "         Final          -0.44307        0.732\n"
     ]
    }
   ],
   "source": [
    "clf_mx = MaxentClassifier.train(sets_train)"
   ]
  },
  {
   "cell_type": "code",
   "execution_count": 20,
   "metadata": {},
   "outputs": [
    {
     "name": "stdout",
     "output_type": "stream",
     "text": [
      "Maximum Entropy Result:\n",
      "Accuracy: 0.728\n"
     ]
    }
   ],
   "source": [
    "print('Maximum Entropy Result:')\n",
    "print('Accuracy:', round(nltk.classify.accuracy(clf_mx, sets_test), 3))"
   ]
  },
  {
   "cell_type": "code",
   "execution_count": 26,
   "metadata": {},
   "outputs": [],
   "source": [
    "pred_mx = [clf_mx.classify(sets_test[i][0]) for i in range(len(sets_test))]\n",
    "label_test = [sets_test[i][1] for i in range(len(sets_test))]"
   ]
  },
  {
   "cell_type": "code",
   "execution_count": 29,
   "metadata": {},
   "outputs": [
    {
     "name": "stdout",
     "output_type": "stream",
     "text": [
      "       |    f      |\n",
      "       |    e      |\n",
      "       |    m    m |\n",
      "       |    a    a |\n",
      "       |    l    l |\n",
      "       |    e    e |\n",
      "-------+-----------+\n",
      "female |<1171> 194 |\n",
      "  male |  425 <484>|\n",
      "-------+-----------+\n",
      "(row = reference; col = test)\n",
      "\n"
     ]
    }
   ],
   "source": [
    "print(ConfusionMatrix(label_test, pred_mx))"
   ]
  },
  {
   "cell_type": "code",
   "execution_count": null,
   "metadata": {
    "collapsed": true
   },
   "outputs": [],
   "source": []
  }
 ],
 "metadata": {
  "kernelspec": {
   "display_name": "Python 3",
   "language": "python",
   "name": "python3"
  },
  "language_info": {
   "codemirror_mode": {
    "name": "ipython",
    "version": 3
   },
   "file_extension": ".py",
   "mimetype": "text/x-python",
   "name": "python",
   "nbconvert_exporter": "python",
   "pygments_lexer": "ipython3",
   "version": "3.6.1"
  }
 },
 "nbformat": 4,
 "nbformat_minor": 2
}
